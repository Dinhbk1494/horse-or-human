{
  "nbformat": 4,
  "nbformat_minor": 0,
  "metadata": {
    "colab": {
      "name": "Untitled4.ipynb",
      "provenance": [],
      "collapsed_sections": []
    },
    "kernelspec": {
      "name": "python3",
      "display_name": "Python 3"
    },
    "language_info": {
      "name": "python"
    }
  },
  "cells": [
    {
      "cell_type": "code",
      "source": [
        "!wget --no-check-certificate \\\n",
        "    https://storage.googleapis.com/laurencemoroney-blog.appspot.com/horse-or-human.zip \\\n",
        "    -O ./horse-or-human.zip\n",
        "\n",
        "!wget --no-check-certificate \\\n",
        "    https://storage.googleapis.com/laurencemoroney-blog.appspot.com/validation-horse-or-human.zip \\\n",
        "    -O ./validation-horse-or-human.zip"
      ],
      "metadata": {
        "id": "_TqzWp-zYTPL"
      },
      "execution_count": null,
      "outputs": []
    },
    {
      "cell_type": "code",
      "source": [
        "train_folder = './horse-or-human'\n",
        "valid_folder = './validation-horse-or-human'\n",
        "\n",
        "!unzip -q horse-or-human.zip -d $train_folder\n",
        "\n",
        "!unzip -q validation-horse-or-human.zip -d $valid_folder\n",
        "\n",
        "train_horse_dir = './horse-or-human/horses'\n",
        "train_human_dir = './horse-or-human/humans'\n",
        "valid_horse_dir = 'validation-horse-or-human/horses'\n",
        "valid_human_dir = 'validation-horse-or-human/humans'"
      ],
      "metadata": {
        "id": "AxigLLktZxV9"
      },
      "execution_count": null,
      "outputs": []
    },
    {
      "cell_type": "code",
      "source": [
        "from tensorflow.keras.preprocessing.image import ImageDataGenerator"
      ],
      "metadata": {
        "id": "HDcnnWWLZ0f2"
      },
      "execution_count": null,
      "outputs": []
    },
    {
      "cell_type": "code",
      "source": [
        "train_generator = ImageDataGenerator(rescale=1/255)\n",
        "valid_generator = ImageDataGenerator(rescale=1/255)"
      ],
      "metadata": {
        "id": "Y598jnkyZ3b9"
      },
      "execution_count": null,
      "outputs": []
    },
    {
      "cell_type": "code",
      "source": [
        "generated_train_data = train_generator.flow_from_directory(\n",
        "    train_folder,\n",
        "    target_size= (150, 150),\n",
        "    batch_size=128,\n",
        "    class_mode='binary'\n",
        ")"
      ],
      "metadata": {
        "id": "pcyWJUBrZ5fV"
      },
      "execution_count": null,
      "outputs": []
    },
    {
      "cell_type": "code",
      "source": [
        "generated_valid_data = valid_generator.flow_from_directory(\n",
        "    valid_folder,\n",
        "    target_size= (150, 150),\n",
        "    batch_size=128,\n",
        "    class_mode='binary'\n",
        ")"
      ],
      "metadata": {
        "id": "NLiUne3_Z-ok"
      },
      "execution_count": null,
      "outputs": []
    },
    {
      "cell_type": "code",
      "source": [
        "import tensorflow as tf\n",
        "from tensorflow.keras.models import Sequential\n",
        "from tensorflow.keras.layers import Conv2D, MaxPooling2D, Flatten, Dense"
      ],
      "metadata": {
        "id": "bc7xNJ9qaBtN"
      },
      "execution_count": null,
      "outputs": []
    },
    {
      "cell_type": "code",
      "source": [
        "model = Sequential(\n",
        "  [Conv2D(16, (3, 3), activation='relu', input_shape=(150, 150, 3)),\n",
        "  MaxPooling2D(2, 2),\n",
        "  Conv2D(32, (3, 3), activation='relu'),\n",
        "  MaxPooling2D(2, 2),\n",
        "  Conv2D(64, (3, 3), activation='relu'),\n",
        "  MaxPooling2D(2, 2),]\n",
        "  # [Conv2D(64, (3, 3), activation='relu', input_shape=(150, 150, 3)),\n",
        "  # MaxPooling2D(2, 2),\n",
        "  # Conv2D(64, (3, 3), activation='relu'),\n",
        "  # MaxPooling2D(2, 2),\n",
        "  # Conv2D(128, (3, 3), activation='relu'),\n",
        "  # MaxPooling2D(2, 2),]\n",
        "  # Conv2D(128, (3, 3), activation='relu'),\n",
        "  # MaxPooling2D(2, 2),]\n",
        "  )\n",
        "model.summary()"
      ],
      "metadata": {
        "id": "TcK4y8I-aCfM"
      },
      "execution_count": null,
      "outputs": []
    },
    {
      "cell_type": "code",
      "source": [
        "model.add(Flatten())\n",
        "model.add(Dense(256, activation='relu'))\n",
        "# model.add(Dense(128, activation='relu'))\n",
        "# model.add(Dropout(0.5))\n",
        "model.add(Dense(1, activation='sigmoid'))\n",
        "# model.add(Dense(1, activation='softmax'))"
      ],
      "metadata": {
        "id": "qgBX9IvOae6E"
      },
      "execution_count": null,
      "outputs": []
    },
    {
      "cell_type": "code",
      "source": [
        "from tensorflow.keras.optimizers import RMSprop\n",
        "model.compile(loss='binary_crossentropy', optimizer=RMSprop(learning_rate=0.0001), metrics=['acc'])"
      ],
      "metadata": {
        "id": "KsBtcF_Oafkc"
      },
      "execution_count": null,
      "outputs": []
    },
    {
      "cell_type": "code",
      "source": [
        "history = model.fit_generator(\n",
        "    generated_train_data,\n",
        "    epochs = 15, \n",
        "    verbose=1,\n",
        "    validation_data = generated_valid_data,\n",
        ")"
      ],
      "metadata": {
        "id": "WyCyaflrahy7"
      },
      "execution_count": null,
      "outputs": []
    }
  ]
}